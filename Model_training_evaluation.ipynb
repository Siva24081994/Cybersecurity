{
 "cells": [
  {
   "cell_type": "code",
   "execution_count": null,
   "id": "3801e18a-7a46-4515-b1e6-33b2c1a06310",
   "metadata": {},
   "outputs": [],
   "source": [
    "#####    Model Selection and Training on Train Data \n",
    "####    Importing Required Libraries"
   ]
  },
  {
   "cell_type": "code",
   "execution_count": 1,
   "id": "7e79647b-e868-46dc-8c19-c0082a0fbb11",
   "metadata": {},
   "outputs": [],
   "source": [
    "import pandas as pd\n",
    "from sklearn.model_selection import train_test_split\n",
    "from sklearn.linear_model import LogisticRegression\n",
    "from sklearn.tree import DecisionTreeClassifier\n",
    "from sklearn.metrics import classification_report\n",
    "from sklearn.ensemble import RandomForestClassifier, GradientBoostingClassifier\n",
    "from xgboost import XGBClassifier\n",
    "from lightgbm import LGBMClassifier\n",
    "from imblearn.over_sampling import SMOTE\n",
    "from sklearn.model_selection import RandomizedSearchCV\n",
    "import shap"
   ]
  },
  {
   "cell_type": "code",
   "execution_count": 4,
   "id": "d13e2301-c817-4221-a0cf-422d8b1a9c5c",
   "metadata": {},
   "outputs": [
    {
     "name": "stdout",
     "output_type": "stream",
     "text": [
      "Requirement already satisfied: xgboost in /opt/anaconda3/lib/python3.12/site-packages (2.1.3)\n",
      "Requirement already satisfied: numpy in /opt/anaconda3/lib/python3.12/site-packages (from xgboost) (1.26.4)\n",
      "Requirement already satisfied: scipy in /opt/anaconda3/lib/python3.12/site-packages (from xgboost) (1.13.1)\n"
     ]
    }
   ],
   "source": [
    "!pip install xgboost\n"
   ]
  },
  {
   "cell_type": "code",
   "execution_count": 7,
   "id": "5392fc45-416c-4b71-a4b8-e643aed2b5aa",
   "metadata": {},
   "outputs": [
    {
     "name": "stdout",
     "output_type": "stream",
     "text": [
      "Requirement already satisfied: lightgbm in /opt/anaconda3/lib/python3.12/site-packages (4.5.0)\n",
      "Requirement already satisfied: numpy>=1.17.0 in /opt/anaconda3/lib/python3.12/site-packages (from lightgbm) (1.26.4)\n",
      "Requirement already satisfied: scipy in /opt/anaconda3/lib/python3.12/site-packages (from lightgbm) (1.13.1)\n"
     ]
    }
   ],
   "source": [
    "!pip install lightgbm\n"
   ]
  },
  {
   "cell_type": "code",
   "execution_count": 9,
   "id": "ada0550c-1c8b-4282-9e16-a2f629a5c74d",
   "metadata": {
    "scrolled": true
   },
   "outputs": [
    {
     "name": "stdout",
     "output_type": "stream",
     "text": [
      "Requirement already satisfied: shap in /opt/anaconda3/lib/python3.12/site-packages (0.46.0)\n",
      "Requirement already satisfied: numpy in /opt/anaconda3/lib/python3.12/site-packages (from shap) (1.26.4)\n",
      "Requirement already satisfied: scipy in /opt/anaconda3/lib/python3.12/site-packages (from shap) (1.13.1)\n",
      "Requirement already satisfied: scikit-learn in /opt/anaconda3/lib/python3.12/site-packages (from shap) (1.4.2)\n",
      "Requirement already satisfied: pandas in /opt/anaconda3/lib/python3.12/site-packages (from shap) (2.2.2)\n",
      "Requirement already satisfied: tqdm>=4.27.0 in /opt/anaconda3/lib/python3.12/site-packages (from shap) (4.66.4)\n",
      "Requirement already satisfied: packaging>20.9 in /opt/anaconda3/lib/python3.12/site-packages (from shap) (23.2)\n",
      "Requirement already satisfied: slicer==0.0.8 in /opt/anaconda3/lib/python3.12/site-packages (from shap) (0.0.8)\n",
      "Requirement already satisfied: numba in /opt/anaconda3/lib/python3.12/site-packages (from shap) (0.59.1)\n",
      "Requirement already satisfied: cloudpickle in /opt/anaconda3/lib/python3.12/site-packages (from shap) (2.2.1)\n",
      "Requirement already satisfied: llvmlite<0.43,>=0.42.0dev0 in /opt/anaconda3/lib/python3.12/site-packages (from numba->shap) (0.42.0)\n",
      "Requirement already satisfied: python-dateutil>=2.8.2 in /opt/anaconda3/lib/python3.12/site-packages (from pandas->shap) (2.9.0.post0)\n",
      "Requirement already satisfied: pytz>=2020.1 in /opt/anaconda3/lib/python3.12/site-packages (from pandas->shap) (2024.1)\n",
      "Requirement already satisfied: tzdata>=2022.7 in /opt/anaconda3/lib/python3.12/site-packages (from pandas->shap) (2023.3)\n",
      "Requirement already satisfied: joblib>=1.2.0 in /opt/anaconda3/lib/python3.12/site-packages (from scikit-learn->shap) (1.4.2)\n",
      "Requirement already satisfied: threadpoolctl>=2.0.0 in /opt/anaconda3/lib/python3.12/site-packages (from scikit-learn->shap) (2.2.0)\n",
      "Requirement already satisfied: six>=1.5 in /opt/anaconda3/lib/python3.12/site-packages (from python-dateutil>=2.8.2->pandas->shap) (1.16.0)\n"
     ]
    }
   ],
   "source": [
    "!pip install shap\n"
   ]
  },
  {
   "cell_type": "code",
   "execution_count": null,
   "id": "0d6309a7-46bf-45fc-b463-977cc528321d",
   "metadata": {},
   "outputs": [],
   "source": [
    "#####     Importing Processed train data    #####"
   ]
  },
  {
   "cell_type": "code",
   "execution_count": 11,
   "id": "53df86ad-3b86-4c3f-a398-d02e8be0e611",
   "metadata": {},
   "outputs": [
    {
     "data": {
      "text/html": [
       "<div>\n",
       "<style scoped>\n",
       "    .dataframe tbody tr th:only-of-type {\n",
       "        vertical-align: middle;\n",
       "    }\n",
       "\n",
       "    .dataframe tbody tr th {\n",
       "        vertical-align: top;\n",
       "    }\n",
       "\n",
       "    .dataframe thead th {\n",
       "        text-align: right;\n",
       "    }\n",
       "</style>\n",
       "<table border=\"1\" class=\"dataframe\">\n",
       "  <thead>\n",
       "    <tr style=\"text-align: right;\">\n",
       "      <th></th>\n",
       "      <th>Id</th>\n",
       "      <th>OrgId</th>\n",
       "      <th>IncidentId</th>\n",
       "      <th>AlertId</th>\n",
       "      <th>DetectorId</th>\n",
       "      <th>AlertTitle</th>\n",
       "      <th>Category</th>\n",
       "      <th>IncidentGrade</th>\n",
       "      <th>EntityType</th>\n",
       "      <th>EvidenceRole</th>\n",
       "      <th>IpAddress</th>\n",
       "      <th>Url</th>\n",
       "      <th>AccountName</th>\n",
       "      <th>DeviceName</th>\n",
       "      <th>NetworkMessageId</th>\n",
       "      <th>RegistryKey</th>\n",
       "      <th>RegistryValueData</th>\n",
       "      <th>ApplicationName</th>\n",
       "      <th>OAuthApplicationId</th>\n",
       "      <th>FileName</th>\n",
       "      <th>ResourceIdName</th>\n",
       "      <th>OSVersion</th>\n",
       "      <th>City</th>\n",
       "      <th>Day</th>\n",
       "      <th>Year</th>\n",
       "      <th>Hour</th>\n",
       "      <th>Time</th>\n",
       "    </tr>\n",
       "  </thead>\n",
       "  <tbody>\n",
       "    <tr>\n",
       "      <th>0</th>\n",
       "      <td>180388628218</td>\n",
       "      <td>0</td>\n",
       "      <td>612</td>\n",
       "      <td>123247</td>\n",
       "      <td>7</td>\n",
       "      <td>6</td>\n",
       "      <td>10</td>\n",
       "      <td>2</td>\n",
       "      <td>15</td>\n",
       "      <td>1</td>\n",
       "      <td>27</td>\n",
       "      <td>160396</td>\n",
       "      <td>453297</td>\n",
       "      <td>153085</td>\n",
       "      <td>529644</td>\n",
       "      <td>1631</td>\n",
       "      <td>860</td>\n",
       "      <td>3421</td>\n",
       "      <td>881</td>\n",
       "      <td>289573</td>\n",
       "      <td>3586</td>\n",
       "      <td>66</td>\n",
       "      <td>3</td>\n",
       "      <td>4</td>\n",
       "      <td>2024</td>\n",
       "      <td>6</td>\n",
       "      <td>21915</td>\n",
       "    </tr>\n",
       "    <tr>\n",
       "      <th>1</th>\n",
       "      <td>455266534868</td>\n",
       "      <td>88</td>\n",
       "      <td>326</td>\n",
       "      <td>210035</td>\n",
       "      <td>58</td>\n",
       "      <td>43</td>\n",
       "      <td>7</td>\n",
       "      <td>1</td>\n",
       "      <td>32</td>\n",
       "      <td>0</td>\n",
       "      <td>360606</td>\n",
       "      <td>160396</td>\n",
       "      <td>24887</td>\n",
       "      <td>153085</td>\n",
       "      <td>529644</td>\n",
       "      <td>1631</td>\n",
       "      <td>860</td>\n",
       "      <td>3421</td>\n",
       "      <td>881</td>\n",
       "      <td>289573</td>\n",
       "      <td>3586</td>\n",
       "      <td>66</td>\n",
       "      <td>10630</td>\n",
       "      <td>14</td>\n",
       "      <td>2024</td>\n",
       "      <td>3</td>\n",
       "      <td>10885</td>\n",
       "    </tr>\n",
       "    <tr>\n",
       "      <th>2</th>\n",
       "      <td>1056561957389</td>\n",
       "      <td>809</td>\n",
       "      <td>58352</td>\n",
       "      <td>712507</td>\n",
       "      <td>423</td>\n",
       "      <td>298</td>\n",
       "      <td>10</td>\n",
       "      <td>1</td>\n",
       "      <td>31</td>\n",
       "      <td>1</td>\n",
       "      <td>360606</td>\n",
       "      <td>68652</td>\n",
       "      <td>453297</td>\n",
       "      <td>153085</td>\n",
       "      <td>529644</td>\n",
       "      <td>1631</td>\n",
       "      <td>860</td>\n",
       "      <td>3421</td>\n",
       "      <td>881</td>\n",
       "      <td>289573</td>\n",
       "      <td>3586</td>\n",
       "      <td>66</td>\n",
       "      <td>10630</td>\n",
       "      <td>13</td>\n",
       "      <td>2024</td>\n",
       "      <td>4</td>\n",
       "      <td>17575</td>\n",
       "    </tr>\n",
       "    <tr>\n",
       "      <th>3</th>\n",
       "      <td>1279900258736</td>\n",
       "      <td>92</td>\n",
       "      <td>32992</td>\n",
       "      <td>774301</td>\n",
       "      <td>2</td>\n",
       "      <td>2</td>\n",
       "      <td>1</td>\n",
       "      <td>0</td>\n",
       "      <td>31</td>\n",
       "      <td>1</td>\n",
       "      <td>360606</td>\n",
       "      <td>13</td>\n",
       "      <td>453297</td>\n",
       "      <td>153085</td>\n",
       "      <td>529644</td>\n",
       "      <td>1631</td>\n",
       "      <td>860</td>\n",
       "      <td>3421</td>\n",
       "      <td>881</td>\n",
       "      <td>289573</td>\n",
       "      <td>3586</td>\n",
       "      <td>66</td>\n",
       "      <td>10630</td>\n",
       "      <td>10</td>\n",
       "      <td>2024</td>\n",
       "      <td>16</td>\n",
       "      <td>59976</td>\n",
       "    </tr>\n",
       "    <tr>\n",
       "      <th>4</th>\n",
       "      <td>214748368522</td>\n",
       "      <td>148</td>\n",
       "      <td>4359</td>\n",
       "      <td>188041</td>\n",
       "      <td>9</td>\n",
       "      <td>74</td>\n",
       "      <td>6</td>\n",
       "      <td>2</td>\n",
       "      <td>32</td>\n",
       "      <td>0</td>\n",
       "      <td>360606</td>\n",
       "      <td>160396</td>\n",
       "      <td>479</td>\n",
       "      <td>153085</td>\n",
       "      <td>529644</td>\n",
       "      <td>1631</td>\n",
       "      <td>860</td>\n",
       "      <td>3421</td>\n",
       "      <td>881</td>\n",
       "      <td>289573</td>\n",
       "      <td>3586</td>\n",
       "      <td>66</td>\n",
       "      <td>10630</td>\n",
       "      <td>15</td>\n",
       "      <td>2024</td>\n",
       "      <td>1</td>\n",
       "      <td>4087</td>\n",
       "    </tr>\n",
       "  </tbody>\n",
       "</table>\n",
       "</div>"
      ],
      "text/plain": [
       "              Id  OrgId  IncidentId  AlertId  DetectorId  AlertTitle  \\\n",
       "0   180388628218      0         612   123247           7           6   \n",
       "1   455266534868     88         326   210035          58          43   \n",
       "2  1056561957389    809       58352   712507         423         298   \n",
       "3  1279900258736     92       32992   774301           2           2   \n",
       "4   214748368522    148        4359   188041           9          74   \n",
       "\n",
       "   Category  IncidentGrade  EntityType  EvidenceRole  IpAddress     Url  \\\n",
       "0        10              2          15             1         27  160396   \n",
       "1         7              1          32             0     360606  160396   \n",
       "2        10              1          31             1     360606   68652   \n",
       "3         1              0          31             1     360606      13   \n",
       "4         6              2          32             0     360606  160396   \n",
       "\n",
       "   AccountName  DeviceName  NetworkMessageId  RegistryKey  RegistryValueData  \\\n",
       "0       453297      153085            529644         1631                860   \n",
       "1        24887      153085            529644         1631                860   \n",
       "2       453297      153085            529644         1631                860   \n",
       "3       453297      153085            529644         1631                860   \n",
       "4          479      153085            529644         1631                860   \n",
       "\n",
       "   ApplicationName  OAuthApplicationId  FileName  ResourceIdName  OSVersion  \\\n",
       "0             3421                 881    289573            3586         66   \n",
       "1             3421                 881    289573            3586         66   \n",
       "2             3421                 881    289573            3586         66   \n",
       "3             3421                 881    289573            3586         66   \n",
       "4             3421                 881    289573            3586         66   \n",
       "\n",
       "    City  Day  Year  Hour   Time  \n",
       "0      3    4  2024     6  21915  \n",
       "1  10630   14  2024     3  10885  \n",
       "2  10630   13  2024     4  17575  \n",
       "3  10630   10  2024    16  59976  \n",
       "4  10630   15  2024     1   4087  "
      ]
     },
     "execution_count": 11,
     "metadata": {},
     "output_type": "execute_result"
    }
   ],
   "source": [
    "#importing processed train data\n",
    "df = pd.read_csv('traindata_processed.csv')\n",
    "pd.set_option('display.max_columns', None)\n",
    "df.head()"
   ]
  },
  {
   "cell_type": "code",
   "execution_count": 17,
   "id": "18b3e3f6-aa55-42de-a269-9031938f0b0f",
   "metadata": {},
   "outputs": [
    {
     "data": {
      "text/plain": [
       "(8922805, 27)"
      ]
     },
     "execution_count": 17,
     "metadata": {},
     "output_type": "execute_result"
    }
   ],
   "source": [
    "traindata.shape"
   ]
  },
  {
   "cell_type": "code",
   "execution_count": null,
   "id": "efc3b337-e2ea-43eb-838e-e0bdbdbab72c",
   "metadata": {},
   "outputs": [],
   "source": [
    "#####  Defining features (X) and target (y)   ######"
   ]
  },
  {
   "cell_type": "code",
   "execution_count": 19,
   "id": "71216b4f-1074-42ea-bfce-5ec3185b291b",
   "metadata": {},
   "outputs": [],
   "source": [
    "X = traindata.drop(columns=['IncidentGrade','Id'])  \n",
    "y = traindata['IncidentGrade']                 # Target column"
   ]
  },
  {
   "cell_type": "code",
   "execution_count": 21,
   "id": "d2c308c4-d9d6-47b2-8545-445329f20da5",
   "metadata": {},
   "outputs": [],
   "source": [
    "# Stratified train-validation split\n",
    "X_train, X_val, y_train, y_val = train_test_split(X, y, test_size=0.3, stratify=y, random_state=42)\n"
   ]
  },
  {
   "cell_type": "code",
   "execution_count": 23,
   "id": "3fafecfa-d8ed-4b4d-8bdd-298e502ff08d",
   "metadata": {},
   "outputs": [
    {
     "name": "stdout",
     "output_type": "stream",
     "text": [
      "Training set class distribution:\n",
      " IncidentGrade\n",
      "0    0.428991\n",
      "2    0.351921\n",
      "1    0.219088\n",
      "Name: proportion, dtype: float64\n",
      "Validation set class distribution:\n",
      " IncidentGrade\n",
      "0    0.428991\n",
      "2    0.351921\n",
      "1    0.219088\n",
      "Name: proportion, dtype: float64\n"
     ]
    }
   ],
   "source": [
    "\n",
    "# Checking class distribution in training and validation sets\n",
    "print(\"Training set class distribution:\\n\", y_train.value_counts(normalize=True))\n",
    "print(\"Validation set class distribution:\\n\", y_val.value_counts(normalize=True))"
   ]
  },
  {
   "cell_type": "code",
   "execution_count": null,
   "id": "a55061fa-5598-4f86-902f-400d18854133",
   "metadata": {},
   "outputs": [],
   "source": [
    "#####      Model Selection and Training:     #####"
   ]
  },
  {
   "cell_type": "code",
   "execution_count": null,
   "id": "a265189e-dc48-4b67-8a4d-2cd255e3cd26",
   "metadata": {},
   "outputs": [],
   "source": [
    "####    Baseline Models   ####"
   ]
  },
  {
   "cell_type": "code",
   "execution_count": 26,
   "id": "4570b847-8be2-48c3-8350-5b6bb3bb6ff4",
   "metadata": {},
   "outputs": [
    {
     "name": "stdout",
     "output_type": "stream",
     "text": [
      "\n",
      "Training Logistic Regression...\n"
     ]
    },
    {
     "name": "stderr",
     "output_type": "stream",
     "text": [
      "/opt/anaconda3/lib/python3.12/site-packages/sklearn/linear_model/_logistic.py:469: ConvergenceWarning: lbfgs failed to converge (status=1):\n",
      "STOP: TOTAL NO. of ITERATIONS REACHED LIMIT.\n",
      "\n",
      "Increase the number of iterations (max_iter) or scale the data as shown in:\n",
      "    https://scikit-learn.org/stable/modules/preprocessing.html\n",
      "Please also refer to the documentation for alternative solver options:\n",
      "    https://scikit-learn.org/stable/modules/linear_model.html#logistic-regression\n",
      "  n_iter_i = _check_optimize_result(\n"
     ]
    },
    {
     "name": "stdout",
     "output_type": "stream",
     "text": [
      "Logistic Regression Classification Report:\n",
      "               precision    recall  f1-score   support\n",
      "\n",
      "     Class 0       0.61      0.45      0.51   1148340\n",
      "     Class 1       0.34      0.34      0.34    586464\n",
      "     Class 2       0.53      0.70      0.60    942038\n",
      "\n",
      "    accuracy                           0.51   2676842\n",
      "   macro avg       0.49      0.50      0.49   2676842\n",
      "weighted avg       0.52      0.51      0.51   2676842\n",
      "\n",
      "\n",
      "Training Decision Tree...\n",
      "Decision Tree Classification Report:\n",
      "               precision    recall  f1-score   support\n",
      "\n",
      "     Class 0       1.00      1.00      1.00   1148340\n",
      "     Class 1       0.99      0.99      0.99    586464\n",
      "     Class 2       1.00      1.00      1.00    942038\n",
      "\n",
      "    accuracy                           1.00   2676842\n",
      "   macro avg       1.00      1.00      1.00   2676842\n",
      "weighted avg       1.00      1.00      1.00   2676842\n",
      "\n"
     ]
    }
   ],
   "source": [
    "# Baseline Models\n",
    "baseline_models = {\n",
    "    'Logistic Regression': LogisticRegression(class_weight='balanced', random_state=42),\n",
    "    'Decision Tree': DecisionTreeClassifier(class_weight='balanced', random_state=42)\n",
    "}\n",
    "\n",
    "# Training and evaluation on validation set\n",
    "for name, model in baseline_models.items():\n",
    "    print(f\"\\nTraining {name}...\")\n",
    "    model.fit(X_train, y_train)\n",
    "    y_pred = model.predict(X_val)\n",
    "    print(f\"{name} Classification Report:\\n\", classification_report(y_val, y_pred, target_names=['Class 0', 'Class 1', 'Class 2']))"
   ]
  },
  {
   "cell_type": "code",
   "execution_count": null,
   "id": "4c92a11e-154d-43c6-a5dc-28572dfcd458",
   "metadata": {},
   "outputs": [],
   "source": [
    "#####   Advanced Models   #####"
   ]
  },
  {
   "cell_type": "code",
   "execution_count": 26,
   "id": "6789ee4a-fbad-4219-afba-191d0d5a89e4",
   "metadata": {},
   "outputs": [
    {
     "name": "stdout",
     "output_type": "stream",
     "text": [
      "\n",
      "Training Random Forest...\n",
      "Random Forest Classification Report:\n",
      "               precision    recall  f1-score   support\n",
      "\n",
      "           0       0.74      0.94      0.83   1148340\n",
      "           1       0.83      0.72      0.77    586464\n",
      "           2       0.97      0.74      0.84    942038\n",
      "\n",
      "    accuracy                           0.82   2676842\n",
      "   macro avg       0.85      0.80      0.81   2676842\n",
      "weighted avg       0.84      0.82      0.82   2676842\n",
      "\n",
      "\n",
      "Training Gradient Boosting...\n"
     ]
    },
    {
     "ename": "KeyboardInterrupt",
     "evalue": "",
     "output_type": "error",
     "traceback": [
      "\u001b[0;31m---------------------------------------------------------------------------\u001b[0m",
      "\u001b[0;31mKeyboardInterrupt\u001b[0m                         Traceback (most recent call last)",
      "Cell \u001b[0;32mIn[26], line 35\u001b[0m\n\u001b[1;32m     32\u001b[0m \u001b[38;5;28mprint\u001b[39m(\u001b[38;5;124mf\u001b[39m\u001b[38;5;124m\"\u001b[39m\u001b[38;5;130;01m\\n\u001b[39;00m\u001b[38;5;124mTraining \u001b[39m\u001b[38;5;132;01m{\u001b[39;00mname\u001b[38;5;132;01m}\u001b[39;00m\u001b[38;5;124m...\u001b[39m\u001b[38;5;124m\"\u001b[39m)\n\u001b[1;32m     34\u001b[0m \u001b[38;5;66;03m# Model training\u001b[39;00m\n\u001b[0;32m---> 35\u001b[0m model\u001b[38;5;241m.\u001b[39mfit(X_train, y_train)\n\u001b[1;32m     37\u001b[0m \u001b[38;5;66;03m# Predictions on validation data\u001b[39;00m\n\u001b[1;32m     38\u001b[0m y_pred \u001b[38;5;241m=\u001b[39m model\u001b[38;5;241m.\u001b[39mpredict(X_val)\n",
      "File \u001b[0;32m/opt/anaconda3/lib/python3.12/site-packages/sklearn/base.py:1474\u001b[0m, in \u001b[0;36m_fit_context.<locals>.decorator.<locals>.wrapper\u001b[0;34m(estimator, *args, **kwargs)\u001b[0m\n\u001b[1;32m   1467\u001b[0m     estimator\u001b[38;5;241m.\u001b[39m_validate_params()\n\u001b[1;32m   1469\u001b[0m \u001b[38;5;28;01mwith\u001b[39;00m config_context(\n\u001b[1;32m   1470\u001b[0m     skip_parameter_validation\u001b[38;5;241m=\u001b[39m(\n\u001b[1;32m   1471\u001b[0m         prefer_skip_nested_validation \u001b[38;5;129;01mor\u001b[39;00m global_skip_validation\n\u001b[1;32m   1472\u001b[0m     )\n\u001b[1;32m   1473\u001b[0m ):\n\u001b[0;32m-> 1474\u001b[0m     \u001b[38;5;28;01mreturn\u001b[39;00m fit_method(estimator, \u001b[38;5;241m*\u001b[39margs, \u001b[38;5;241m*\u001b[39m\u001b[38;5;241m*\u001b[39mkwargs)\n",
      "File \u001b[0;32m/opt/anaconda3/lib/python3.12/site-packages/sklearn/ensemble/_gb.py:784\u001b[0m, in \u001b[0;36mBaseGradientBoosting.fit\u001b[0;34m(self, X, y, sample_weight, monitor)\u001b[0m\n\u001b[1;32m    781\u001b[0m     \u001b[38;5;28mself\u001b[39m\u001b[38;5;241m.\u001b[39m_resize_state()\n\u001b[1;32m    783\u001b[0m \u001b[38;5;66;03m# fit the boosting stages\u001b[39;00m\n\u001b[0;32m--> 784\u001b[0m n_stages \u001b[38;5;241m=\u001b[39m \u001b[38;5;28mself\u001b[39m\u001b[38;5;241m.\u001b[39m_fit_stages(\n\u001b[1;32m    785\u001b[0m     X_train,\n\u001b[1;32m    786\u001b[0m     y_train,\n\u001b[1;32m    787\u001b[0m     raw_predictions,\n\u001b[1;32m    788\u001b[0m     sample_weight_train,\n\u001b[1;32m    789\u001b[0m     \u001b[38;5;28mself\u001b[39m\u001b[38;5;241m.\u001b[39m_rng,\n\u001b[1;32m    790\u001b[0m     X_val,\n\u001b[1;32m    791\u001b[0m     y_val,\n\u001b[1;32m    792\u001b[0m     sample_weight_val,\n\u001b[1;32m    793\u001b[0m     begin_at_stage,\n\u001b[1;32m    794\u001b[0m     monitor,\n\u001b[1;32m    795\u001b[0m )\n\u001b[1;32m    797\u001b[0m \u001b[38;5;66;03m# change shape of arrays after fit (early-stopping or additional ests)\u001b[39;00m\n\u001b[1;32m    798\u001b[0m \u001b[38;5;28;01mif\u001b[39;00m n_stages \u001b[38;5;241m!=\u001b[39m \u001b[38;5;28mself\u001b[39m\u001b[38;5;241m.\u001b[39mestimators_\u001b[38;5;241m.\u001b[39mshape[\u001b[38;5;241m0\u001b[39m]:\n",
      "File \u001b[0;32m/opt/anaconda3/lib/python3.12/site-packages/sklearn/ensemble/_gb.py:880\u001b[0m, in \u001b[0;36mBaseGradientBoosting._fit_stages\u001b[0;34m(self, X, y, raw_predictions, sample_weight, random_state, X_val, y_val, sample_weight_val, begin_at_stage, monitor)\u001b[0m\n\u001b[1;32m    873\u001b[0m         initial_loss \u001b[38;5;241m=\u001b[39m factor \u001b[38;5;241m*\u001b[39m \u001b[38;5;28mself\u001b[39m\u001b[38;5;241m.\u001b[39m_loss(\n\u001b[1;32m    874\u001b[0m             y_true\u001b[38;5;241m=\u001b[39my_oob_masked,\n\u001b[1;32m    875\u001b[0m             raw_prediction\u001b[38;5;241m=\u001b[39mraw_predictions[\u001b[38;5;241m~\u001b[39msample_mask],\n\u001b[1;32m    876\u001b[0m             sample_weight\u001b[38;5;241m=\u001b[39msample_weight_oob_masked,\n\u001b[1;32m    877\u001b[0m         )\n\u001b[1;32m    879\u001b[0m \u001b[38;5;66;03m# fit next stage of trees\u001b[39;00m\n\u001b[0;32m--> 880\u001b[0m raw_predictions \u001b[38;5;241m=\u001b[39m \u001b[38;5;28mself\u001b[39m\u001b[38;5;241m.\u001b[39m_fit_stage(\n\u001b[1;32m    881\u001b[0m     i,\n\u001b[1;32m    882\u001b[0m     X,\n\u001b[1;32m    883\u001b[0m     y,\n\u001b[1;32m    884\u001b[0m     raw_predictions,\n\u001b[1;32m    885\u001b[0m     sample_weight,\n\u001b[1;32m    886\u001b[0m     sample_mask,\n\u001b[1;32m    887\u001b[0m     random_state,\n\u001b[1;32m    888\u001b[0m     X_csc\u001b[38;5;241m=\u001b[39mX_csc,\n\u001b[1;32m    889\u001b[0m     X_csr\u001b[38;5;241m=\u001b[39mX_csr,\n\u001b[1;32m    890\u001b[0m )\n\u001b[1;32m    892\u001b[0m \u001b[38;5;66;03m# track loss\u001b[39;00m\n\u001b[1;32m    893\u001b[0m \u001b[38;5;28;01mif\u001b[39;00m do_oob:\n",
      "File \u001b[0;32m/opt/anaconda3/lib/python3.12/site-packages/sklearn/ensemble/_gb.py:490\u001b[0m, in \u001b[0;36mBaseGradientBoosting._fit_stage\u001b[0;34m(self, i, X, y, raw_predictions, sample_weight, sample_mask, random_state, X_csc, X_csr)\u001b[0m\n\u001b[1;32m    487\u001b[0m     sample_weight \u001b[38;5;241m=\u001b[39m sample_weight \u001b[38;5;241m*\u001b[39m sample_mask\u001b[38;5;241m.\u001b[39mastype(np\u001b[38;5;241m.\u001b[39mfloat64)\n\u001b[1;32m    489\u001b[0m X \u001b[38;5;241m=\u001b[39m X_csc \u001b[38;5;28;01mif\u001b[39;00m X_csc \u001b[38;5;129;01mis\u001b[39;00m \u001b[38;5;129;01mnot\u001b[39;00m \u001b[38;5;28;01mNone\u001b[39;00m \u001b[38;5;28;01melse\u001b[39;00m X\n\u001b[0;32m--> 490\u001b[0m tree\u001b[38;5;241m.\u001b[39mfit(\n\u001b[1;32m    491\u001b[0m     X, neg_g_view[:, k], sample_weight\u001b[38;5;241m=\u001b[39msample_weight, check_input\u001b[38;5;241m=\u001b[39m\u001b[38;5;28;01mFalse\u001b[39;00m\n\u001b[1;32m    492\u001b[0m )\n\u001b[1;32m    494\u001b[0m \u001b[38;5;66;03m# update tree leaves\u001b[39;00m\n\u001b[1;32m    495\u001b[0m X_for_tree_update \u001b[38;5;241m=\u001b[39m X_csr \u001b[38;5;28;01mif\u001b[39;00m X_csr \u001b[38;5;129;01mis\u001b[39;00m \u001b[38;5;129;01mnot\u001b[39;00m \u001b[38;5;28;01mNone\u001b[39;00m \u001b[38;5;28;01melse\u001b[39;00m X\n",
      "File \u001b[0;32m/opt/anaconda3/lib/python3.12/site-packages/sklearn/base.py:1474\u001b[0m, in \u001b[0;36m_fit_context.<locals>.decorator.<locals>.wrapper\u001b[0;34m(estimator, *args, **kwargs)\u001b[0m\n\u001b[1;32m   1467\u001b[0m     estimator\u001b[38;5;241m.\u001b[39m_validate_params()\n\u001b[1;32m   1469\u001b[0m \u001b[38;5;28;01mwith\u001b[39;00m config_context(\n\u001b[1;32m   1470\u001b[0m     skip_parameter_validation\u001b[38;5;241m=\u001b[39m(\n\u001b[1;32m   1471\u001b[0m         prefer_skip_nested_validation \u001b[38;5;129;01mor\u001b[39;00m global_skip_validation\n\u001b[1;32m   1472\u001b[0m     )\n\u001b[1;32m   1473\u001b[0m ):\n\u001b[0;32m-> 1474\u001b[0m     \u001b[38;5;28;01mreturn\u001b[39;00m fit_method(estimator, \u001b[38;5;241m*\u001b[39margs, \u001b[38;5;241m*\u001b[39m\u001b[38;5;241m*\u001b[39mkwargs)\n",
      "File \u001b[0;32m/opt/anaconda3/lib/python3.12/site-packages/sklearn/tree/_classes.py:1377\u001b[0m, in \u001b[0;36mDecisionTreeRegressor.fit\u001b[0;34m(self, X, y, sample_weight, check_input)\u001b[0m\n\u001b[1;32m   1347\u001b[0m \u001b[38;5;129m@_fit_context\u001b[39m(prefer_skip_nested_validation\u001b[38;5;241m=\u001b[39m\u001b[38;5;28;01mTrue\u001b[39;00m)\n\u001b[1;32m   1348\u001b[0m \u001b[38;5;28;01mdef\u001b[39;00m \u001b[38;5;21mfit\u001b[39m(\u001b[38;5;28mself\u001b[39m, X, y, sample_weight\u001b[38;5;241m=\u001b[39m\u001b[38;5;28;01mNone\u001b[39;00m, check_input\u001b[38;5;241m=\u001b[39m\u001b[38;5;28;01mTrue\u001b[39;00m):\n\u001b[1;32m   1349\u001b[0m \u001b[38;5;250m    \u001b[39m\u001b[38;5;124;03m\"\"\"Build a decision tree regressor from the training set (X, y).\u001b[39;00m\n\u001b[1;32m   1350\u001b[0m \n\u001b[1;32m   1351\u001b[0m \u001b[38;5;124;03m    Parameters\u001b[39;00m\n\u001b[0;32m   (...)\u001b[0m\n\u001b[1;32m   1374\u001b[0m \u001b[38;5;124;03m        Fitted estimator.\u001b[39;00m\n\u001b[1;32m   1375\u001b[0m \u001b[38;5;124;03m    \"\"\"\u001b[39;00m\n\u001b[0;32m-> 1377\u001b[0m     \u001b[38;5;28msuper\u001b[39m()\u001b[38;5;241m.\u001b[39m_fit(\n\u001b[1;32m   1378\u001b[0m         X,\n\u001b[1;32m   1379\u001b[0m         y,\n\u001b[1;32m   1380\u001b[0m         sample_weight\u001b[38;5;241m=\u001b[39msample_weight,\n\u001b[1;32m   1381\u001b[0m         check_input\u001b[38;5;241m=\u001b[39mcheck_input,\n\u001b[1;32m   1382\u001b[0m     )\n\u001b[1;32m   1383\u001b[0m     \u001b[38;5;28;01mreturn\u001b[39;00m \u001b[38;5;28mself\u001b[39m\n",
      "File \u001b[0;32m/opt/anaconda3/lib/python3.12/site-packages/sklearn/tree/_classes.py:472\u001b[0m, in \u001b[0;36mBaseDecisionTree._fit\u001b[0;34m(self, X, y, sample_weight, check_input, missing_values_in_feature_mask)\u001b[0m\n\u001b[1;32m    461\u001b[0m \u001b[38;5;28;01melse\u001b[39;00m:\n\u001b[1;32m    462\u001b[0m     builder \u001b[38;5;241m=\u001b[39m BestFirstTreeBuilder(\n\u001b[1;32m    463\u001b[0m         splitter,\n\u001b[1;32m    464\u001b[0m         min_samples_split,\n\u001b[0;32m   (...)\u001b[0m\n\u001b[1;32m    469\u001b[0m         \u001b[38;5;28mself\u001b[39m\u001b[38;5;241m.\u001b[39mmin_impurity_decrease,\n\u001b[1;32m    470\u001b[0m     )\n\u001b[0;32m--> 472\u001b[0m builder\u001b[38;5;241m.\u001b[39mbuild(\u001b[38;5;28mself\u001b[39m\u001b[38;5;241m.\u001b[39mtree_, X, y, sample_weight, missing_values_in_feature_mask)\n\u001b[1;32m    474\u001b[0m \u001b[38;5;28;01mif\u001b[39;00m \u001b[38;5;28mself\u001b[39m\u001b[38;5;241m.\u001b[39mn_outputs_ \u001b[38;5;241m==\u001b[39m \u001b[38;5;241m1\u001b[39m \u001b[38;5;129;01mand\u001b[39;00m is_classifier(\u001b[38;5;28mself\u001b[39m):\n\u001b[1;32m    475\u001b[0m     \u001b[38;5;28mself\u001b[39m\u001b[38;5;241m.\u001b[39mn_classes_ \u001b[38;5;241m=\u001b[39m \u001b[38;5;28mself\u001b[39m\u001b[38;5;241m.\u001b[39mn_classes_[\u001b[38;5;241m0\u001b[39m]\n",
      "\u001b[0;31mKeyboardInterrupt\u001b[0m: "
     ]
    }
   ],
   "source": [
    "import pandas as pd\n",
    "from sklearn.model_selection import train_test_split\n",
    "from sklearn.ensemble import RandomForestClassifier, GradientBoostingClassifier\n",
    "from sklearn.metrics import classification_report\n",
    "\n",
    "# Feature and target selection\n",
    "X = traindata.drop(columns=['IncidentGrade', 'Id'])  # Exclude target and unnecessary columns\n",
    "y = traindata['IncidentGrade']  # Target column\n",
    "\n",
    "# Stratified train-validation split\n",
    "X_train, X_val, y_train, y_val = train_test_split(X, y, test_size=0.3, stratify=y, random_state=42)\n",
    "\n",
    "# Advanced models definition\n",
    "advanced_models = {\n",
    "    'Random Forest': RandomForestClassifier(\n",
    "        n_estimators=100,      # Reduce number of trees for faster training\n",
    "        max_depth=10,          # Limit tree depth to save resources\n",
    "        class_weight='balanced',\n",
    "        max_features='sqrt',   # Use a subset of features\n",
    "        n_jobs=-1,             # Use all CPU cores\n",
    "        random_state=42\n",
    "    ),\n",
    "    'Gradient Boosting': GradientBoostingClassifier(\n",
    "        n_estimators=100,      # Reduce number of trees\n",
    "        max_depth=5,           # Limit tree depth\n",
    "        random_state=42\n",
    "    )\n",
    "}\n",
    "\n",
    "# Train and evaluate models\n",
    "for name, model in advanced_models.items():\n",
    "    print(f\"\\nTraining {name}...\")\n",
    "    \n",
    "    # Model training\n",
    "    model.fit(X_train, y_train)\n",
    "    \n",
    "    # Predictions on validation data\n",
    "    y_pred = model.predict(X_val)\n",
    "    \n",
    "    # Classification report\n",
    "    print(f\"{name} Classification Report:\\n\", classification_report(y_val, y_pred))\n"
   ]
  },
  {
   "cell_type": "code",
   "execution_count": null,
   "id": "05b1f867-51cc-4791-852e-9da437c6e6ee",
   "metadata": {},
   "outputs": [],
   "source": [
    "Model Selection\n",
    "Baseline Models:\n",
    "Logistic Regression:\n",
    "Struggles with class imbalance, leading to a low macro-F1 score (0.51). Precision and recall vary significantly across classes, indicating that it's not well-suited for this problem.\n",
    "\n",
    "Decision Tree:\n",
    "Perfect scores suggest overfitting, especially given the high accuracy (1.00) on the training set.\n",
    "\n",
    "Advanced Models:\n",
    "Random Forest:\n",
    "Achieves excellent macro-F1 (0.98), precision, and recall, suggesting it generalizes well. Likely robust due to ensemble averaging.\n",
    "\n",
    "\n",
    "Based on these results, we proceed with Randam Forest as the final model since it shows the best overall performance.\n",
    "Random Forest has the best macro F1-score (0.82) with balanced performance. But we can see Class Imbalance so using SMOTE"
   ]
  },
  {
   "cell_type": "code",
   "execution_count": null,
   "id": "db2acfbf-8cac-46f1-816b-dac22b44f4ea",
   "metadata": {},
   "outputs": [],
   "source": [
    "Taking Only 10% of the training data for computational efficeincy"
   ]
  },
  {
   "cell_type": "code",
   "execution_count": 47,
   "id": "4f956264-c728-4bdd-9a08-489262baf05e",
   "metadata": {},
   "outputs": [],
   "source": [
    "# Sample 20% of the training data\n",
    "X_train_sample = X_train.sample(frac=0.01, random_state=42)\n",
    "y_train_sample = y_train.loc[X_train_sample.index]"
   ]
  },
  {
   "cell_type": "code",
   "execution_count": 49,
   "id": "691c7245-07aa-4b6e-912f-51f478e5868c",
   "metadata": {},
   "outputs": [
    {
     "name": "stdout",
     "output_type": "stream",
     "text": [
      "Original Training Data Size: (6245963, 25)\n",
      "Sampled Training Data Size: (62460, 25)\n"
     ]
    }
   ],
   "source": [
    "\n",
    "# Check the sizes\n",
    "print(\"Original Training Data Size:\", X_train.shape)\n",
    "print(\"Sampled Training Data Size:\", X_train_sample.shape)"
   ]
  },
  {
   "cell_type": "code",
   "execution_count": null,
   "id": "c4daeccd-86c2-4ce4-a362-53b32fa61e33",
   "metadata": {},
   "outputs": [],
   "source": [
    "SMOTE"
   ]
  },
  {
   "cell_type": "code",
   "execution_count": 51,
   "id": "cfcf3417-fd4e-4e08-a98c-599e4b839f93",
   "metadata": {},
   "outputs": [],
   "source": [
    "# Applying SMOTE to the training data\n",
    "smote = SMOTE(random_state=42)\n",
    "X_train_smote, y_train_smote = smote.fit_resample(X_train_sample, y_train_sample)\n"
   ]
  },
  {
   "cell_type": "code",
   "execution_count": 53,
   "id": "f63c6d18-8b5a-470e-9b41-2827e83696d0",
   "metadata": {},
   "outputs": [
    {
     "name": "stdout",
     "output_type": "stream",
     "text": [
      "Original class distribution:\n",
      " IncidentGrade\n",
      "0    26765\n",
      "2    21941\n",
      "1    13754\n",
      "Name: count, dtype: int64\n",
      "After SMOTE class distribution:\n",
      " IncidentGrade\n",
      "2    26765\n",
      "0    26765\n",
      "1    26765\n",
      "Name: count, dtype: int64\n"
     ]
    }
   ],
   "source": [
    "# Checking the new class distribution\n",
    "print(\"Original class distribution:\\n\", y_train_sample.value_counts())\n",
    "print(\"After SMOTE class distribution:\\n\", y_train_smote.value_counts())"
   ]
  },
  {
   "cell_type": "code",
   "execution_count": null,
   "id": "797446fb-d94f-4d45-8deb-336f018698ae",
   "metadata": {},
   "outputs": [],
   "source": [
    "######   \n",
    "Training RF model on class balanced data  #####"
   ]
  },
  {
   "cell_type": "code",
   "execution_count": 55,
   "id": "1edf898c-f236-4f7d-a533-b05d8c959720",
   "metadata": {},
   "outputs": [
    {
     "name": "stdout",
     "output_type": "stream",
     "text": [
      "Validation Set Classification Report (After SMOTE):\n",
      "              precision    recall  f1-score   support\n",
      "\n",
      "     Class 0       0.89      0.93      0.91   1148340\n",
      "     Class 1       0.86      0.87      0.86    586464\n",
      "     Class 2       0.94      0.89      0.92    942038\n",
      "\n",
      "    accuracy                           0.90   2676842\n",
      "   macro avg       0.90      0.90      0.90   2676842\n",
      "weighted avg       0.90      0.90      0.90   2676842\n",
      "\n"
     ]
    }
   ],
   "source": [
    "from sklearn.ensemble import RandomForestClassifier\n",
    "from sklearn.metrics import classification_report\n",
    "\n",
    "# Training the Random Forest model\n",
    "rf = RandomForestClassifier(random_state=42)  # You can adjust hyperparameters as needed\n",
    "rf.fit(X_train_smote, y_train_smote)\n",
    "\n",
    "# Prediction on the validation set\n",
    "y_val_pred = rf.predict(X_val)\n",
    "\n",
    "# Evaluate performance\n",
    "print(\"Validation Set Classification Report (After SMOTE):\")\n",
    "print(classification_report(y_val, y_val_pred, target_names=['Class 0', 'Class 1', 'Class 2']))\n"
   ]
  },
  {
   "cell_type": "code",
   "execution_count": 57,
   "id": "a7079cbd-e73b-464f-a34d-e6d3f1fb3072",
   "metadata": {},
   "outputs": [
    {
     "name": "stderr",
     "output_type": "stream",
     "text": [
      "/var/folders/cq/vv8124490dd5c15d35p_khvr0000gn/T/ipykernel_1992/1175307835.py:17: FutureWarning: \n",
      "\n",
      "Passing `palette` without assigning `hue` is deprecated and will be removed in v0.14.0. Assign the `y` variable to `hue` and set `legend=False` for the same effect.\n",
      "\n",
      "  sns.barplot(x='Importance', y='Feature', data=feature_importance_df, palette='viridis')\n"
     ]
    },
    {
     "data": {
      "image/png": "[encoded data removed]",
      "text/plain": [
       "<Figure size 1000x600 with 1 Axes>"
      ]
     },
     "metadata": {},
     "output_type": "display_data"
    }
   ],
   "source": [
    "import matplotlib.pyplot as plt\n",
    "import seaborn as sns\n",
    "import pandas as pd\n",
    "\n",
    "# Get feature importances\n",
    "importances = rf.feature_importances_\n",
    "\n",
    "# Create a DataFrame for better visualization\n",
    "features = X_train_smote.columns  # Assuming X_train_smote is a DataFrame\n",
    "feature_importance_df = pd.DataFrame({'Feature': features, 'Importance': importances})\n",
    "\n",
    "# Sort the DataFrame by importance\n",
    "feature_importance_df = feature_importance_df.sort_values(by='Importance', ascending=False)\n",
    "\n",
    "# Plotting the feature importance\n",
    "plt.figure(figsize=(10, 6))\n",
    "sns.barplot(x='Importance', y='Feature', data=feature_importance_df, palette='viridis')\n",
    "plt.title('Feature Importance for Random Forest Model')\n",
    "plt.xlabel('Importance')\n",
    "plt.ylabel('Feature')\n",
    "plt.show()\n"
   ]
  },
  {
   "cell_type": "code",
   "execution_count": 63,
   "id": "7f3fc763-11f8-49b0-91e2-8734b481167f",
   "metadata": {},
   "outputs": [],
   "source": [
    "# Defining top 10 features based on important feature\n",
    "top_10_features = ['OrgId', 'IncidentId', 'AlertTitle', 'DetectorId', \n",
    "                   'AlertId', 'Category', 'Hour', 'Time', 'Day', 'EntityType']\n"
   ]
  },
  {
   "cell_type": "code",
   "execution_count": 65,
   "id": "ba09b504-b006-4013-ad94-b32be06ff444",
   "metadata": {},
   "outputs": [],
   "source": [
    "# Filter datasets for top 11 features\n",
    "X_train_top10 = X_train_smote[top_10_features]\n",
    "X_val_top10 = X_val[top_10_features]"
   ]
  },
  {
   "cell_type": "code",
   "execution_count": 67,
   "id": "9fcd7491-2d0d-4029-934c-94a2459de03b",
   "metadata": {},
   "outputs": [
    {
     "name": "stdout",
     "output_type": "stream",
     "text": [
      "Shape of training set with top features: (80295, 10)\n",
      "Shape of validation set with top features: (2676842, 10)\n"
     ]
    }
   ],
   "source": [
    "\n",
    "# Verify shapes\n",
    "print(\"Shape of training set with top features:\", X_train_top10.shape)\n",
    "print(\"Shape of validation set with top features:\", X_val_top10.shape)"
   ]
  },
  {
   "cell_type": "code",
   "execution_count": 69,
   "id": "5be84294-f548-40a6-bd6e-a4520f467571",
   "metadata": {},
   "outputs": [
    {
     "name": "stdout",
     "output_type": "stream",
     "text": [
      "Validation Set Classification Report (Top 11 Features):\n",
      "              precision    recall  f1-score   support\n",
      "\n",
      "     Class 0       0.92      0.93      0.92   1148340\n",
      "     Class 1       0.87      0.89      0.88    586464\n",
      "     Class 2       0.95      0.91      0.93    942038\n",
      "\n",
      "    accuracy                           0.92   2676842\n",
      "   macro avg       0.91      0.91      0.91   2676842\n",
      "weighted avg       0.92      0.92      0.92   2676842\n",
      "\n"
     ]
    }
   ],
   "source": [
    "from sklearn.ensemble import RandomForestClassifier\n",
    "from sklearn.metrics import classification_report\n",
    "\n",
    "# Train the Random Forest model with top 11 features\n",
    "rf_top10 = RandomForestClassifier(random_state=42)  # You can tune hyperparameters as needed\n",
    "rf_top10.fit(X_train_top10, y_train_smote)\n",
    "\n",
    "# Predict on the validation set\n",
    "y_val_pred_top10 = rf_top10.predict(X_val_top10)\n",
    "\n",
    "# Evaluate performance\n",
    "print(\"Validation Set Classification Report (Top 11 Features):\")\n",
    "print(classification_report(y_val, y_val_pred_top10, target_names=['Class 0', 'Class 1', 'Class 2']))\n"
   ]
  },
  {
   "cell_type": "code",
   "execution_count": null,
   "id": "9ee8759a-bffe-464f-ae6c-cea218785476",
   "metadata": {},
   "outputs": [],
   "source": [
    "we absorve that the model with 10 features was computationally efficient and produces better scores than model with all features"
   ]
  },
  {
   "cell_type": "code",
   "execution_count": null,
   "id": "ceaa7aa8-8600-4059-9f3c-9d7a880076c1",
   "metadata": {},
   "outputs": [],
   "source": [
    "######   Hyperparameter Tuning   ######"
   ]
  },
  {
   "cell_type": "code",
   "execution_count": 71,
   "id": "89b55729-095e-4892-80fb-e0d870e70eea",
   "metadata": {},
   "outputs": [
    {
     "name": "stdout",
     "output_type": "stream",
     "text": [
      "Fitting 3 folds for each of 20 candidates, totalling 60 fits\n",
      "Best Parameters: {'n_estimators': 200, 'min_samples_split': 10, 'min_samples_leaf': 1, 'max_features': 'sqrt', 'max_depth': 30, 'class_weight': 'balanced_subsample', 'bootstrap': False}\n",
      "Validation Set Classification Report (Tuned Top 11 Features):\n",
      "              precision    recall  f1-score   support\n",
      "\n",
      "     Class 0       0.92      0.93      0.93   1148340\n",
      "     Class 1       0.87      0.90      0.88    586464\n",
      "     Class 2       0.95      0.91      0.93    942038\n",
      "\n",
      "    accuracy                           0.92   2676842\n",
      "   macro avg       0.91      0.92      0.91   2676842\n",
      "weighted avg       0.92      0.92      0.92   2676842\n",
      "\n"
     ]
    }
   ],
   "source": [
    "from sklearn.ensemble import RandomForestClassifier\n",
    "from sklearn.model_selection import RandomizedSearchCV\n",
    "from sklearn.metrics import classification_report\n",
    "\n",
    "# Define hyperparameter grid for Random Forest\n",
    "param_distributions_rf = {\n",
    "    'n_estimators': [100, 200, 300],  # Number of trees\n",
    "    'max_depth': [None, 10, 20, 30],  # Maximum depth of each tree\n",
    "    'min_samples_split': [2, 5, 10],  # Minimum samples required to split a node\n",
    "    'min_samples_leaf': [1, 2, 4],  # Minimum samples required at each leaf node\n",
    "    'max_features': ['sqrt', 'log2', None],  # Number of features to consider for split\n",
    "    'bootstrap': [True, False],  # Whether to use bootstrap samples\n",
    "    'class_weight': [None, 'balanced', 'balanced_subsample'],  # Handling class imbalance\n",
    "}\n",
    "\n",
    "# Randomized search for Random Forest\n",
    "random_search_rf_top10 = RandomizedSearchCV(\n",
    "    estimator=RandomForestClassifier(random_state=42),\n",
    "    param_distributions=param_distributions_rf,\n",
    "    scoring='f1_macro',  # Use macro F1-score for evaluation\n",
    "    cv=3,\n",
    "    n_iter=20,  # Number of random combinations\n",
    "    verbose=1,\n",
    "    n_jobs=-1  # Use all available cores\n",
    ")\n",
    "\n",
    "# Perform hyperparameter tuning\n",
    "random_search_rf_top10.fit(X_train_top10, y_train_smote)\n",
    "\n",
    "# Get the best model\n",
    "best_rf_top10 = random_search_rf_top10.best_estimator_\n",
    "print(\"Best Parameters:\", random_search_rf_top10.best_params_)\n",
    "\n",
    "# Evaluate on validation set\n",
    "y_val_pred_best_rf_top10 = best_rf_top10.predict(X_val_top10)\n",
    "print(\"Validation Set Classification Report (Tuned Top 11 Features):\")\n",
    "print(classification_report(y_val, y_val_pred_best_rf_top10, target_names=['Class 0', 'Class 1', 'Class 2']))\n"
   ]
  },
  {
   "cell_type": "code",
   "execution_count": null,
   "id": "f474a955-51c1-4b63-9bba-4eda3b8b7add",
   "metadata": {},
   "outputs": [],
   "source": [
    "The hyperparameter tuned model gives best scores. Saving the model.\n"
   ]
  },
  {
   "cell_type": "code",
   "execution_count": 75,
   "id": "0813803d-8180-4015-9038-95aa95110423",
   "metadata": {},
   "outputs": [
    {
     "name": "stdout",
     "output_type": "stream",
     "text": [
      "Model saved as best_Random_forest_Classification_model_SMOTE.pkl\n"
     ]
    }
   ],
   "source": [
    "\n",
    "import joblib\n",
    "\n",
    "# Save the model\n",
    "joblib.dump(best_rf_top10, 'best_Random_forest_Classification_model_SMOTE.pkl')\n",
    "print(\"Model saved as best_Random_forest_Classification_model_SMOTE.pkl\")"
   ]
  },
  {
   "cell_type": "code",
   "execution_count": null,
   "id": "cfad977f-62be-45d1-860b-a178f933f7cc",
   "metadata": {},
   "outputs": [],
   "source": [
    "Final Evaluation on Test Set"
   ]
  },
  {
   "cell_type": "code",
   "execution_count": 77,
   "id": "2dcf4e43-500a-488b-a749-9c1f7a43e7b8",
   "metadata": {},
   "outputs": [
    {
     "data": {
      "text/html": [
       "<div>\n",
       "<style scoped>\n",
       "    .dataframe tbody tr th:only-of-type {\n",
       "        vertical-align: middle;\n",
       "    }\n",
       "\n",
       "    .dataframe tbody tr th {\n",
       "        vertical-align: top;\n",
       "    }\n",
       "\n",
       "    .dataframe thead th {\n",
       "        text-align: right;\n",
       "    }\n",
       "</style>\n",
       "<table border=\"1\" class=\"dataframe\">\n",
       "  <thead>\n",
       "    <tr style=\"text-align: right;\">\n",
       "      <th></th>\n",
       "      <th>Id</th>\n",
       "      <th>OrgId</th>\n",
       "      <th>IncidentId</th>\n",
       "      <th>AlertId</th>\n",
       "      <th>DetectorId</th>\n",
       "      <th>AlertTitle</th>\n",
       "      <th>Category</th>\n",
       "      <th>IncidentGrade</th>\n",
       "      <th>EntityType</th>\n",
       "      <th>EvidenceRole</th>\n",
       "      <th>IpAddress</th>\n",
       "      <th>Url</th>\n",
       "      <th>AccountName</th>\n",
       "      <th>DeviceName</th>\n",
       "      <th>NetworkMessageId</th>\n",
       "      <th>RegistryKey</th>\n",
       "      <th>RegistryValueData</th>\n",
       "      <th>ApplicationName</th>\n",
       "      <th>OAuthApplicationId</th>\n",
       "      <th>FileName</th>\n",
       "      <th>ResourceIdName</th>\n",
       "      <th>OSVersion</th>\n",
       "      <th>City</th>\n",
       "      <th>Day</th>\n",
       "      <th>Year</th>\n",
       "      <th>Hour</th>\n",
       "      <th>Time</th>\n",
       "    </tr>\n",
       "  </thead>\n",
       "  <tbody>\n",
       "    <tr>\n",
       "      <th>0</th>\n",
       "      <td>1245540519230</td>\n",
       "      <td>657</td>\n",
       "      <td>11767</td>\n",
       "      <td>87199</td>\n",
       "      <td>524</td>\n",
       "      <td>563</td>\n",
       "      <td>11</td>\n",
       "      <td>0</td>\n",
       "      <td>28</td>\n",
       "      <td>0</td>\n",
       "      <td>360606</td>\n",
       "      <td>160396</td>\n",
       "      <td>863</td>\n",
       "      <td>153085</td>\n",
       "      <td>529644</td>\n",
       "      <td>1631</td>\n",
       "      <td>860</td>\n",
       "      <td>3421</td>\n",
       "      <td>881</td>\n",
       "      <td>289573</td>\n",
       "      <td>3586</td>\n",
       "      <td>66</td>\n",
       "      <td>10630</td>\n",
       "      <td>4</td>\n",
       "      <td>2024</td>\n",
       "      <td>22</td>\n",
       "      <td>82520</td>\n",
       "    </tr>\n",
       "    <tr>\n",
       "      <th>1</th>\n",
       "      <td>1400159342154</td>\n",
       "      <td>3</td>\n",
       "      <td>91158</td>\n",
       "      <td>632273</td>\n",
       "      <td>2</td>\n",
       "      <td>2</td>\n",
       "      <td>1</td>\n",
       "      <td>0</td>\n",
       "      <td>15</td>\n",
       "      <td>0</td>\n",
       "      <td>360606</td>\n",
       "      <td>160396</td>\n",
       "      <td>453297</td>\n",
       "      <td>2833</td>\n",
       "      <td>529644</td>\n",
       "      <td>1631</td>\n",
       "      <td>860</td>\n",
       "      <td>3421</td>\n",
       "      <td>881</td>\n",
       "      <td>289573</td>\n",
       "      <td>3586</td>\n",
       "      <td>0</td>\n",
       "      <td>10630</td>\n",
       "      <td>3</td>\n",
       "      <td>2024</td>\n",
       "      <td>12</td>\n",
       "      <td>46649</td>\n",
       "    </tr>\n",
       "    <tr>\n",
       "      <th>2</th>\n",
       "      <td>1279900255923</td>\n",
       "      <td>145</td>\n",
       "      <td>32247</td>\n",
       "      <td>131719</td>\n",
       "      <td>2932</td>\n",
       "      <td>10807</td>\n",
       "      <td>11</td>\n",
       "      <td>0</td>\n",
       "      <td>23</td>\n",
       "      <td>1</td>\n",
       "      <td>360606</td>\n",
       "      <td>160396</td>\n",
       "      <td>453297</td>\n",
       "      <td>153085</td>\n",
       "      <td>529644</td>\n",
       "      <td>1631</td>\n",
       "      <td>860</td>\n",
       "      <td>3421</td>\n",
       "      <td>881</td>\n",
       "      <td>14</td>\n",
       "      <td>3586</td>\n",
       "      <td>66</td>\n",
       "      <td>10630</td>\n",
       "      <td>8</td>\n",
       "      <td>2024</td>\n",
       "      <td>3</td>\n",
       "      <td>12037</td>\n",
       "    </tr>\n",
       "    <tr>\n",
       "      <th>3</th>\n",
       "      <td>60129547292</td>\n",
       "      <td>222</td>\n",
       "      <td>15294</td>\n",
       "      <td>917686</td>\n",
       "      <td>0</td>\n",
       "      <td>0</td>\n",
       "      <td>10</td>\n",
       "      <td>1</td>\n",
       "      <td>7</td>\n",
       "      <td>1</td>\n",
       "      <td>360606</td>\n",
       "      <td>160396</td>\n",
       "      <td>453297</td>\n",
       "      <td>153085</td>\n",
       "      <td>529644</td>\n",
       "      <td>1631</td>\n",
       "      <td>860</td>\n",
       "      <td>3421</td>\n",
       "      <td>881</td>\n",
       "      <td>289573</td>\n",
       "      <td>3586</td>\n",
       "      <td>66</td>\n",
       "      <td>10630</td>\n",
       "      <td>12</td>\n",
       "      <td>2024</td>\n",
       "      <td>12</td>\n",
       "      <td>43594</td>\n",
       "    </tr>\n",
       "    <tr>\n",
       "      <th>4</th>\n",
       "      <td>515396080539</td>\n",
       "      <td>363</td>\n",
       "      <td>7615</td>\n",
       "      <td>5944</td>\n",
       "      <td>27</td>\n",
       "      <td>18</td>\n",
       "      <td>5</td>\n",
       "      <td>0</td>\n",
       "      <td>28</td>\n",
       "      <td>0</td>\n",
       "      <td>360606</td>\n",
       "      <td>160396</td>\n",
       "      <td>136104</td>\n",
       "      <td>153085</td>\n",
       "      <td>529644</td>\n",
       "      <td>1631</td>\n",
       "      <td>860</td>\n",
       "      <td>3421</td>\n",
       "      <td>881</td>\n",
       "      <td>289573</td>\n",
       "      <td>3586</td>\n",
       "      <td>66</td>\n",
       "      <td>10630</td>\n",
       "      <td>6</td>\n",
       "      <td>2024</td>\n",
       "      <td>17</td>\n",
       "      <td>63665</td>\n",
       "    </tr>\n",
       "  </tbody>\n",
       "</table>\n",
       "</div>"
      ],
      "text/plain": [
       "              Id  OrgId  IncidentId  AlertId  DetectorId  AlertTitle  \\\n",
       "0  1245540519230    657       11767    87199         524         563   \n",
       "1  1400159342154      3       91158   632273           2           2   \n",
       "2  1279900255923    145       32247   131719        2932       10807   \n",
       "3    60129547292    222       15294   917686           0           0   \n",
       "4   515396080539    363        7615     5944          27          18   \n",
       "\n",
       "   Category  IncidentGrade  EntityType  EvidenceRole  IpAddress     Url  \\\n",
       "0        11              0          28             0     360606  160396   \n",
       "1         1              0          15             0     360606  160396   \n",
       "2        11              0          23             1     360606  160396   \n",
       "3        10              1           7             1     360606  160396   \n",
       "4         5              0          28             0     360606  160396   \n",
       "\n",
       "   AccountName  DeviceName  NetworkMessageId  RegistryKey  RegistryValueData  \\\n",
       "0          863      153085            529644         1631                860   \n",
       "1       453297        2833            529644         1631                860   \n",
       "2       453297      153085            529644         1631                860   \n",
       "3       453297      153085            529644         1631                860   \n",
       "4       136104      153085            529644         1631                860   \n",
       "\n",
       "   ApplicationName  OAuthApplicationId  FileName  ResourceIdName  OSVersion  \\\n",
       "0             3421                 881    289573            3586         66   \n",
       "1             3421                 881    289573            3586          0   \n",
       "2             3421                 881        14            3586         66   \n",
       "3             3421                 881    289573            3586         66   \n",
       "4             3421                 881    289573            3586         66   \n",
       "\n",
       "    City  Day  Year  Hour   Time  \n",
       "0  10630    4  2024    22  82520  \n",
       "1  10630    3  2024    12  46649  \n",
       "2  10630    8  2024     3  12037  \n",
       "3  10630   12  2024    12  43594  \n",
       "4  10630    6  2024    17  63665  "
      ]
     },
     "execution_count": 77,
     "metadata": {},
     "output_type": "execute_result"
    }
   ],
   "source": [
    "# Loading test data\n",
    "test_data = pd.read_csv('testdata_processed.csv')\n",
    "test_data.head()"
   ]
  },
  {
   "cell_type": "code",
   "execution_count": 79,
   "id": "c1cb8dd2-3b09-4a8b-95c4-7260ca4bd81a",
   "metadata": {},
   "outputs": [],
   "source": [
    "# Selecting only top 10 features and setting features and target\n",
    "X_test_top10 = test_data[top_10_features] \n",
    "y_test = test_data['IncidentGrade']"
   ]
  },
  {
   "cell_type": "code",
   "execution_count": 81,
   "id": "c8712e7c-13e5-4fa3-bffd-178ecbc0708e",
   "metadata": {},
   "outputs": [
    {
     "name": "stdout",
     "output_type": "stream",
     "text": [
      "Test Set Classification Report (Top 10 Features):\n",
      "              precision    recall  f1-score   support\n",
      "\n",
      "     Class 0       0.89      0.86      0.88   1752895\n",
      "     Class 1       0.78      0.86      0.82    902664\n",
      "     Class 2       0.91      0.88      0.90   1492329\n",
      "\n",
      "    accuracy                           0.87   4147888\n",
      "   macro avg       0.86      0.87      0.86   4147888\n",
      "weighted avg       0.87      0.87      0.87   4147888\n",
      "\n"
     ]
    }
   ],
   "source": [
    "# Predicting on the test set using the best model\n",
    "y_test_pred_top10 = best_rf_top10.predict(X_test_top10)\n",
    "\n",
    "# Evaluate performance on test data\n",
    "print(\"Test Set Classification Report (Top 10 Features):\")\n",
    "print(classification_report(y_test, y_test_pred_top10, target_names=['Class 0', 'Class 1', 'Class 2']))"
   ]
  }
 ],
 "metadata": {
  "kernelspec": {
   "display_name": "Python 3 (ipykernel)",
   "language": "python",
   "name": "python3"
  },
  "language_info": {
   "codemirror_mode": {
    "name": "ipython",
    "version": 3
   },
   "file_extension": ".py",
   "mimetype": "text/x-python",
   "name": "python",
   "nbconvert_exporter": "python",
   "pygments_lexer": "ipython3",
   "version": "3.12.4"
  }
 },
 "nbformat": 4,
 "nbformat_minor": 5
}
